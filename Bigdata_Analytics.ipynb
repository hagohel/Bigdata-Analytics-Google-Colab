{
  "nbformat": 4,
  "nbformat_minor": 0,
  "metadata": {
    "colab": {
      "name": "Bigdata_Analytics.ipynb",
      "provenance": []
    },
    "kernelspec": {
      "name": "python3",
      "display_name": "Python 3"
    }
  },
  "cells": [
    {
      "cell_type": "code",
      "metadata": {
        "id": "dnssZICdFQEt",
        "colab_type": "code",
        "colab": {}
      },
      "source": [
        "!apt-get install openjdk-8-jdk-headless -qq > /dev/null"
      ],
      "execution_count": 0,
      "outputs": []
    },
    {
      "cell_type": "code",
      "metadata": {
        "id": "xGs0ZRInGJ3N",
        "colab_type": "code",
        "colab": {}
      },
      "source": [
        "!wget -q http://mirrors.viethosting.com/apache/spark/spark-2.4.4/spark-2.4.4-bin-hadoop2.7.tgz"
      ],
      "execution_count": 0,
      "outputs": []
    },
    {
      "cell_type": "code",
      "metadata": {
        "id": "khrNMepXG4RP",
        "colab_type": "code",
        "colab": {}
      },
      "source": [
        "!tar xf spark-2.4.4-bin-hadoop2.7.tgz"
      ],
      "execution_count": 0,
      "outputs": []
    },
    {
      "cell_type": "code",
      "metadata": {
        "id": "_zm_SddxG6kY",
        "colab_type": "code",
        "colab": {}
      },
      "source": [
        "!pip install -q findspark"
      ],
      "execution_count": 0,
      "outputs": []
    },
    {
      "cell_type": "code",
      "metadata": {
        "id": "bB91tI43HF0x",
        "colab_type": "code",
        "colab": {}
      },
      "source": [
        "import os\n",
        "os.environ[\"JAVA_HOME\"] = \"/usr/lib/jvm/java-8-openjdk-amd64\"\n",
        "os.environ[\"SPARK_HOME\"] = \"/content/spark-2.4.4-bin-hadoop2.7\""
      ],
      "execution_count": 0,
      "outputs": []
    },
    {
      "cell_type": "code",
      "metadata": {
        "id": "5h3wdL0VH10c",
        "colab_type": "code",
        "colab": {}
      },
      "source": [
        "import findspark\n",
        "findspark.init()\n",
        "from pyspark.sql import SparkSession\n",
        "spark = SparkSession.builder.master(\"local[*]\").getOrCreate()"
      ],
      "execution_count": 0,
      "outputs": []
    },
    {
      "cell_type": "code",
      "metadata": {
        "id": "VeK-ytuNIDvs",
        "colab_type": "code",
        "colab": {}
      },
      "source": [
        "#Simple Linear Regression Model \n",
        "from google.colab import files\n",
        "files.upload()"
      ],
      "execution_count": 0,
      "outputs": []
    },
    {
      "cell_type": "code",
      "metadata": {
        "id": "iZq-2qF9JBn2",
        "colab_type": "code",
        "colab": {}
      },
      "source": [
        "ls "
      ],
      "execution_count": 0,
      "outputs": []
    },
    {
      "cell_type": "code",
      "metadata": {
        "id": "rMB3Cr3HJaAw",
        "colab_type": "code",
        "colab": {}
      },
      "source": [
        "from pyspark.ml.feature import VectorAssembler\n",
        "from pyspark.ml.regression import LinearRegression\n",
        "dataset = spark.read.csv('BostonHousing.csv',inferSchema=True, header =True)"
      ],
      "execution_count": 0,
      "outputs": []
    },
    {
      "cell_type": "code",
      "metadata": {
        "id": "eEw5nz8WJmJ4",
        "colab_type": "code",
        "colab": {}
      },
      "source": [
        "dataset.printSchema()"
      ],
      "execution_count": 0,
      "outputs": []
    },
    {
      "cell_type": "code",
      "metadata": {
        "id": "xTX3ieSKJx9w",
        "colab_type": "code",
        "colab": {}
      },
      "source": [
        "#Input all the features in one vector column \n",
        "assembler = VectorAssembler(inputCols=['crim', 'zn', 'indus', 'chas', 'nox', 'rm', 'age', 'dis', 'rad', 'tax', 'ptratio', 'b', 'lstat'], outputCol = 'Attributes')\n",
        "\n",
        "output = assembler.transform(dataset)\n",
        "\n",
        "#Input vs output\n",
        "finalized_data = output.select(\"Attributes\",\"medv\")\n",
        "\n",
        "finalized_data.show()"
      ],
      "execution_count": 0,
      "outputs": []
    },
    {
      "cell_type": "code",
      "metadata": {
        "id": "B6WkTnuEKUry",
        "colab_type": "code",
        "colab": {}
      },
      "source": [
        "#Split training and testing data\n",
        "train_data,test_data = finalized_data.randomSplit([0.8,0.2])"
      ],
      "execution_count": 0,
      "outputs": []
    },
    {
      "cell_type": "code",
      "metadata": {
        "id": "XmPcGvmyKZcz",
        "colab_type": "code",
        "outputId": "67267735-2851-40db-a7d5-b3076fe178ee",
        "colab": {
          "base_uri": "https://localhost:8080/",
          "height": 459
        }
      },
      "source": [
        "regressor = LinearRegression(featuresCol = 'Attributes', labelCol = 'medv')\n",
        "\n",
        "#Learn to fit the model from training set\n",
        "regressor = regressor.fit(train_data)\n",
        "\n",
        "#To predict the prices on testing set\n",
        "pred = regressor.evaluate(test_data)\n",
        "\n",
        "#Predict the model\n",
        "pred.predictions.show()"
      ],
      "execution_count": 0,
      "outputs": [
        {
          "output_type": "stream",
          "text": [
            "+--------------------+----+------------------+\n",
            "|          Attributes|medv|        prediction|\n",
            "+--------------------+----+------------------+\n",
            "|[0.01301,35.0,1.5...|32.7| 30.06652817812244|\n",
            "|[0.01432,100.0,1....|31.6|  34.0887225200804|\n",
            "|[0.01501,80.0,2.0...|24.5| 28.26478550413279|\n",
            "|[0.01538,90.0,3.7...|44.0| 37.85807016143466|\n",
            "|[0.01778,95.0,1.4...|32.9|31.109687160524288|\n",
            "|[0.02543,55.0,3.7...|23.9| 28.09323730668173|\n",
            "|[0.02729,0.0,7.07...|34.7|29.883017073935072|\n",
            "|[0.03502,80.0,4.9...|28.5|33.945021846057216|\n",
            "|[0.03548,80.0,3.6...|20.9| 22.59048209800852|\n",
            "|[0.03584,80.0,3.3...|23.5|31.113880488800994|\n",
            "|[0.03705,20.0,3.3...|35.4|  34.1123949861194|\n",
            "|[0.04011,80.0,1.5...|33.3| 36.39957625736466|\n",
            "|[0.04527,0.0,11.9...|20.6|22.232253714400414|\n",
            "|[0.04544,0.0,3.24...|19.8|21.331678263106923|\n",
            "|[0.05023,35.0,6.0...|17.1|20.352858557647174|\n",
            "|[0.0536,21.0,5.64...|25.0|27.577480120100024|\n",
            "|[0.05561,70.0,2.2...|29.0| 32.16320919244194|\n",
            "|[0.05602,0.0,2.46...|50.0| 34.95037125846132|\n",
            "|[0.05735,0.0,4.49...|26.6| 27.39049947297204|\n",
            "|[0.06127,40.0,6.4...|33.1| 34.58507077993568|\n",
            "+--------------------+----+------------------+\n",
            "only showing top 20 rows\n",
            "\n"
          ],
          "name": "stdout"
        }
      ]
    },
    {
      "cell_type": "code",
      "metadata": {
        "id": "lmal6kKbK0XM",
        "colab_type": "code",
        "outputId": "60f454fd-967c-4bb0-ba77-bf64d3c9699a",
        "colab": {
          "base_uri": "https://localhost:8080/",
          "height": 51
        }
      },
      "source": [
        "#coefficient of the regression model\n",
        "coeff = regressor.coefficients\n",
        "\n",
        "#X and Y intercept\n",
        "intr = regressor.intercept\n",
        "\n",
        "print (\"The coefficient of the model is : %a\" %coeff)\n",
        "print (\"The Intercept of the model is : %f\" %intr)"
      ],
      "execution_count": 0,
      "outputs": [
        {
          "output_type": "stream",
          "text": [
            "The coefficient of the model is : DenseVector([-0.1519, 0.0602, 0.0097, 2.4341, -16.4977, 3.2871, 0.0035, -1.4588, 0.3404, -0.013, -0.9576, 0.0096, -0.5293])\n",
            "The Intercept of the model is : 38.830118\n"
          ],
          "name": "stdout"
        }
      ]
    },
    {
      "cell_type": "code",
      "metadata": {
        "id": "d_iZCuDCLJIN",
        "colab_type": "code",
        "outputId": "e51792ae-15a4-415a-d3de-fea1c81852a7",
        "colab": {
          "base_uri": "https://localhost:8080/",
          "height": 85
        }
      },
      "source": [
        "from pyspark.ml.evaluation import RegressionEvaluator\n",
        "eval = RegressionEvaluator(labelCol=\"medv\", predictionCol=\"prediction\", metricName=\"rmse\")\n",
        "\n",
        "# Root Mean Square Error\n",
        "rmse = eval.evaluate(pred.predictions)\n",
        "print(\"RMSE: %.3f\" % rmse)\n",
        "\n",
        "# Mean Square Error\n",
        "mse = eval.evaluate(pred.predictions, {eval.metricName: \"mse\"})\n",
        "print(\"MSE: %.3f\" % mse)\n",
        "\n",
        "# Mean Absolute Error\n",
        "mae = eval.evaluate(pred.predictions, {eval.metricName: \"mae\"})\n",
        "print(\"MAE: %.3f\" % mae)\n",
        "\n",
        "# r2 - coefficient of determination\n",
        "r2 = eval.evaluate(pred.predictions, {eval.metricName: \"r2\"})\n",
        "print(\"r2: %.3f\" %r2)"
      ],
      "execution_count": 0,
      "outputs": [
        {
          "output_type": "stream",
          "text": [
            "RMSE: 4.851\n",
            "MSE: 23.531\n",
            "MAE: 3.363\n",
            "r2: 0.781\n"
          ],
          "name": "stdout"
        }
      ]
    }
  ]
}